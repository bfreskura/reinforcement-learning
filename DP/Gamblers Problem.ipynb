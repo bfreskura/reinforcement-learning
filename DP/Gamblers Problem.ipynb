{
 "cells": [
  {
   "cell_type": "markdown",
   "metadata": {
    "collapsed": true
   },
   "source": [
    "### This is Example 4.3. Gambler’s Problem from Sutton's book.\n",
    "\n",
    "A gambler has the opportunity to make bets on the outcomes of a sequence of coin flips. \n",
    "If the coin comes up heads, he wins as many dollars as he has staked on that flip; \n",
    "if it is tails, he loses his stake. The game ends when the gambler wins by reaching his goal of $100, \n",
    "or loses by running out of money. \n",
    "\n",
    "On each flip, the gambler must decide what portion of his capital to stake, in integer numbers of dollars. \n",
    "This problem can be formulated as an undiscounted, episodic, finite MDP. \n",
    "\n",
    "The state is the gambler’s capital, s ∈ {1, 2, . . . , 99}.\n",
    "The actions are stakes, a ∈ {0, 1, . . . , min(s, 100 − s)}. \n",
    "The reward is zero on all transitions except those on which the gambler reaches his goal, when it is +1.\n",
    "\n",
    "The state-value function then gives the probability of winning from each state. A policy is a mapping from levels of capital to stakes. The optimal policy maximizes the probability of reaching the goal. Let p_h denote the probability of the coin coming up heads. If p_h is known, then the entire problem is known and it can be solved, for instance, by value iteration.\n"
   ]
  },
  {
   "cell_type": "code",
   "execution_count": 4,
   "metadata": {},
   "outputs": [],
   "source": [
    "import numpy as np\n",
    "import sys\n",
    "import matplotlib.pyplot as plt\n",
    "if \"../\" not in sys.path:\n",
    "  sys.path.append(\"../\") "
   ]
  },
  {
   "cell_type": "markdown",
   "metadata": {
    "collapsed": true
   },
   "source": [
    "\n",
    "### Exercise 4.9 (programming)\n",
    "\n",
    "Implement value iteration for the gambler’s problem and solve it for p_h = 0.25 and p_h = 0.55.\n",
    "\n"
   ]
  },
  {
   "cell_type": "code",
   "execution_count": 31,
   "metadata": {},
   "outputs": [],
   "source": [
    "def value_iteration_for_gamblers(p_h, theta=0.0001, discount_factor=1.0):\n",
    "    \"\"\"\n",
    "    Args:\n",
    "        p_h: Probability of the coin coming up heads\n",
    "    \"\"\"\n",
    "    \n",
    "    def one_step_lookahead(s, V, rewards):\n",
    "        \"\"\"\n",
    "        Helper function to calculate the value for all action in a given state.\n",
    "        \n",
    "        Args:\n",
    "            s: The gambler’s capital. Integer.\n",
    "            V: The vector that contains values at each state. \n",
    "            rewards: The reward vector.\n",
    "                        \n",
    "        Returns:\n",
    "            A vector containing the expected value of each action. \n",
    "            Its length equals to the number of actions.\n",
    "        \"\"\"\n",
    "        na = min(s, 100 - s)\n",
    "        A = np.zeros(na + 1)\n",
    "        for a in range(na):\n",
    "            A[a] = p_h * (rewards[s + a] + V[s + a]) + (1 - p_h) * (rewards[s - a] + V[s - a])\n",
    "            \n",
    "        return A\n",
    "\n",
    "    ns = 100\n",
    "    V = np.zeros(ns)\n",
    "    rewards = np.zeros(ns)\n",
    "    rewards[-1] = 1\n",
    "    \n",
    "    while True:\n",
    "        delta = 0\n",
    "        for s in range(1, ns - 1):\n",
    "            action_values = one_step_lookahead(s, V, rewards)\n",
    "            best_action_value = np.max(action_values)\n",
    "            \n",
    "            delta = max(delta, np.abs(best_action_value - V[s]))\n",
    "            V[s] = best_action_value\n",
    "\n",
    "        if delta < theta:\n",
    "            break\n",
    "            \n",
    "    policy = np.zeros((ns, ns))\n",
    "    for s in range(1, ns):\n",
    "        A = one_step_lookahead(s, V, rewards)\n",
    "        best_action = np.argmax(A)\n",
    "        policy[s, best_action] = 1.0\n",
    "            \n",
    "    return policy, V"
   ]
  },
  {
   "cell_type": "code",
   "execution_count": 62,
   "metadata": {},
   "outputs": [
    {
     "name": "stdout",
     "output_type": "stream",
     "text": [
      "Optimized Policy:\n",
      "[[0. 0. 0. ... 0. 0. 0.]\n",
      " [1. 0. 0. ... 0. 0. 0.]\n",
      " [0. 1. 0. ... 0. 0. 0.]\n",
      " ...\n",
      " [0. 1. 0. ... 0. 0. 0.]\n",
      " [1. 0. 0. ... 0. 0. 0.]\n",
      " [1. 0. 0. ... 0. 0. 0.]]\n",
      "\n",
      "Optimized Value Function:\n",
      "[0.         0.         0.17912425 0.32572544 0.44573271 0.54399362\n",
      " 0.62447139 0.69040617 0.74444689 0.78875913 0.8251133  0.85495674\n",
      " 0.87947267 0.89962842 0.9162148  0.92987837 0.94114777 0.95045522\n",
      " 0.95815418 0.96453368 0.96983015 0.97423699 0.97791242 0.98098594\n",
      " 0.98356356 0.98573209 0.98756264 0.9891135  0.99043246 0.99155874\n",
      " 0.99252456 0.99335639 0.994076   0.99470135 0.99524722 0.99572585\n",
      " 0.99614736 0.99652013 0.99685113 0.99714619 0.99741014 0.99764707\n",
      " 0.99786039 0.99805299 0.99822732 0.99838546 0.99852919 0.99866005\n",
      " 0.99877936 0.99888827 0.99898778 0.99907876 0.999162   0.99923818\n",
      " 0.99930791 0.99937175 0.99943018 0.99948365 0.99953257 0.9995773\n",
      " 0.99961818 0.99965552 0.9996896  0.99972067 0.99974898 0.99977475\n",
      " 0.99979818 0.99981946 0.99983877 0.99985626 0.99987209 0.99988639\n",
      " 0.9998993  0.99991093 0.9999214  0.9999308  0.99993923 0.99994677\n",
      " 0.99995351 0.99995952 0.99996488 0.99996963 0.99997384 0.99997756\n",
      " 0.99998085 0.99998374 0.99998628 0.99998849 0.99999043 0.99999211\n",
      " 0.99999357 0.99999482 0.9999959  0.99999683 0.99999761 0.99999828\n",
      " 0.99999883 0.9999993  0.99999969 0.        ]\n",
      "\n"
     ]
    }
   ],
   "source": [
    "policy, v = value_iteration_for_gamblers(0.55)\n",
    "\n",
    "print(\"Optimized Policy:\")\n",
    "print(policy)\n",
    "print(\"\")\n",
    "\n",
    "print(\"Optimized Value Function:\")\n",
    "print(v)\n",
    "print(\"\")"
   ]
  },
  {
   "cell_type": "code",
   "execution_count": 66,
   "metadata": {},
   "outputs": [
    {
     "data": {
      "text/plain": [
       "(100,)"
      ]
     },
     "execution_count": 66,
     "metadata": {},
     "output_type": "execute_result"
    }
   ],
   "source": [
    "v.shape"
   ]
  },
  {
   "cell_type": "code",
   "execution_count": 63,
   "metadata": {},
   "outputs": [
    {
     "data": {
      "image/png": "[encoded data removed]",
      "text/plain": [
       "<Figure size 432x288 with 1 Axes>"
      ]
     },
     "metadata": {
      "needs_background": "light"
     },
     "output_type": "display_data"
    }
   ],
   "source": [
    "# Plotting Final Policy (action stake) vs State (Capital)\n",
    "\n",
    "# Implement!\n",
    "# Plotting Final Policy (action stake) vs State (Capital)\n",
    "\n",
    "# x axis values\n",
    "x = range(100)\n",
    "# corresponding y axis values\n",
    "y = v[:100]\n",
    " \n",
    "# plotting the points \n",
    "plt.plot(x, y)\n",
    " \n",
    "# naming the x axis\n",
    "plt.xlabel('Capital')\n",
    "# naming the y axis\n",
    "plt.ylabel('Value Estimates')\n",
    " \n",
    "# giving a title to the graph\n",
    "plt.title('Final Policy (action stake) vs State (Capital)')\n",
    " \n",
    "# function to show the plot\n",
    "plt.show()"
   ]
  },
  {
   "cell_type": "code",
   "execution_count": 64,
   "metadata": {},
   "outputs": [
    {
     "data": {
      "image/png": "[encoded data removed]",
      "text/plain": [
       "<Figure size 432x288 with 1 Axes>"
      ]
     },
     "metadata": {
      "needs_background": "light"
     },
     "output_type": "display_data"
    }
   ],
   "source": [
    "# Plotting Capital vs Final Policy\n",
    "\n",
    "# x axis values\n",
    "x = range(100)\n",
    "# corresponding y axis values\n",
    "y = np.argmax(policy, 1)\n",
    " \n",
    "# plotting the bars\n",
    "plt.bar(x, y, align='center', alpha=0.5)\n",
    " \n",
    "# naming the x axis\n",
    "plt.xlabel('Capital')\n",
    "# naming the y axis\n",
    "plt.ylabel('Final policy (stake)')\n",
    " \n",
    "# giving a title to the graph\n",
    "plt.title('Capital vs Final Policy')\n",
    " \n",
    "# function to show the plot\n",
    "plt.show()"
   ]
  }
 ],
 "metadata": {
  "kernelspec": {
   "display_name": "Python 3",
   "language": "python",
   "name": "python3"
  },
  "language_info": {
   "codemirror_mode": {
    "name": "ipython",
    "version": 3
   },
   "file_extension": ".py",
   "mimetype": "text/x-python",
   "name": "python",
   "nbconvert_exporter": "python",
   "pygments_lexer": "ipython3",
   "version": "3.6.7"
  }
 },
 "nbformat": 4,
 "nbformat_minor": 1
}
